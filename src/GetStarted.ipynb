{
 "cells": [
  {
   "cell_type": "markdown",
   "metadata": {},
   "source": [
    "# Get started"
   ]
  },
  {
   "cell_type": "markdown",
   "metadata": {},
   "source": [
    "## Install the Addin\n",
    "\n",
    "If you have Autodesk Revit open, close it. The addin need to register a dockable panel on startup!"
   ]
  },
  {
   "cell_type": "code",
   "execution_count": null,
   "metadata": {
    "dotnet_interactive": {
     "language": "pwsh"
    },
    "polyglot_notebook": {
     "kernelName": "pwsh"
    }
   },
   "outputs": [],
   "source": [
    "dotnet build bim-net-interactive.sln -c \"Debug R24\""
   ]
  },
  {
   "cell_type": "markdown",
   "metadata": {},
   "source": [
    "Open Revit and go to the \"Add-ins\" tab where a button \"Show Dockable Pane\" will let you show the kernel viewer."
   ]
  },
  {
   "cell_type": "markdown",
   "metadata": {},
   "source": [
    "## Install VS Code Polyglot Notebook extension"
   ]
  },
  {
   "cell_type": "code",
   "execution_count": null,
   "metadata": {
    "dotnet_interactive": {
     "language": "pwsh"
    },
    "polyglot_notebook": {
     "kernelName": "pwsh"
    }
   },
   "outputs": [],
   "source": [
    "# 1. Build the project\n",
    "dotnet build Jowsy.DotNet.Interactive.Extensions\n",
    "\n",
    "# Clear any older versions of this extension package from your NuGet cache\n",
    "rm ~/.nuget/packages/Jowsy.DotNet.Interactive.Extensions -Force -Recurse -ErrorAction Ignore\n",
    "\n",
    "dotnet pack Jowsy.DotNet.Interactive.Extensions -c Debug /p:PackageVersion=1.0.0\n",
    "\n",
    "$nugets = Get-ChildItem -Recurse RevitInteractive*.nupkg\n",
    "\n",
    "$nugetPackage = $nugets[0].FullName"
   ]
  },
  {
   "cell_type": "code",
   "execution_count": null,
   "metadata": {
    "dotnet_interactive": {
     "language": "csharp"
    },
    "polyglot_notebook": {
     "kernelName": "csharp"
    }
   },
   "outputs": [],
   "source": [
    "#!set --value @pwsh:nugetPackage --name nugetPackage\n",
    "var nugetSource = System.IO.Path.GetDirectoryName(nugetPackage);\n",
    "nugetSource"
   ]
  },
  {
   "cell_type": "code",
   "execution_count": null,
   "metadata": {
    "dotnet_interactive": {
     "language": "csharp"
    },
    "polyglot_notebook": {
     "kernelName": "csharp"
    }
   },
   "outputs": [],
   "source": [
    "#r \"nuget:RevitInteractive,*-*\"\n",
    "\n",
    "#i @csharp:nugetSource"
   ]
  },
  {
   "cell_type": "markdown",
   "metadata": {},
   "source": [
    "## Connecting to the Revit kernel\n",
    "We use the *#!connect* magic command to establish connection to the embedded revit kernel. Remember to start the kernel on the Revit side. Goto Addins->Net Interactive->Show Dockable Panel."
   ]
  },
  {
   "cell_type": "code",
   "execution_count": null,
   "metadata": {
    "dotnet_interactive": {
     "language": "csharp"
    },
    "polyglot_notebook": {
     "kernelName": "csharp"
    }
   },
   "outputs": [],
   "source": [
    "#!connect revit --kernel-name revit24 --revit-version 2024"
   ]
  },
  {
   "cell_type": "markdown",
   "metadata": {},
   "source": [
    "If connection is established global variables are created for the current UIApplication, UIDocument and Document. Variables are shown in the kernel viewer as seen below. Those variables can be referenced in code cells chosen to run on the Revit kernel.\n",
    "\n",
    "![](screenshot-variables.png)"
   ]
  },
  {
   "cell_type": "markdown",
   "metadata": {},
   "source": [
    "In order to get IntelliSense you can import Revit API references. For the moment IntelliSense is not supported when using the revit kernel. A workaround is to uncomment the connector directive to activate the csharp-kernel."
   ]
  },
  {
   "cell_type": "code",
   "execution_count": null,
   "metadata": {
    "dotnet_interactive": {
     "language": "csharp"
    },
    "polyglot_notebook": {
     "kernelName": "csharp"
    }
   },
   "outputs": [],
   "source": [
    "#r \"nuget:Revit.RevitApi.x64, 2023.0.0\"\n",
    "#r \"nuget:Revit.RevitApiUi.x64, 2023.0.0\"\n",
    "using Autodesk.Revit.DB;\n",
    "using Autodesk.Revit.UI;"
   ]
  },
  {
   "cell_type": "markdown",
   "metadata": {},
   "source": [
    "## Querying the Revit Database\n",
    "Use display method to output the result from a query. \n",
    "\n",
    "NOTE: Objects of type Autodesk.DB.Elements are configured to be rendered as HTML. \n",
    "\n",
    "The formatter only recurse to a specific depth (default 3)."
   ]
  },
  {
   "cell_type": "code",
   "execution_count": null,
   "metadata": {
    "dotnet_interactive": {
     "language": "csharp"
    },
    "polyglot_notebook": {
     "kernelName": "csharp"
    }
   },
   "outputs": [],
   "source": [
    "#!revit24\n",
    "   \n",
    "   var query = new FilteredElementCollector(doc).OfClass(typeof(Wall))\n",
    "                                                 .Cast<Wall>();\n",
    "\n",
    "display(query);"
   ]
  },
  {
   "cell_type": "markdown",
   "metadata": {},
   "source": [
    "\n",
    "If you just return the variable it will be defined and shown in Variables in the kernel UI in Revit."
   ]
  },
  {
   "cell_type": "code",
   "execution_count": null,
   "metadata": {
    "dotnet_interactive": {
     "language": "csharp"
    },
    "polyglot_notebook": {
     "kernelName": "csharp"
    }
   },
   "outputs": [],
   "source": [
    "#!revit24\n",
    "   \n",
    "   var wall = new FilteredElementCollector(doc).OfClass(typeof(Wall))\n",
    "                                                 .Cast<Wall>()\n",
    "                                                 .First();\n",
    "\n",
    "wall"
   ]
  },
  {
   "cell_type": "markdown",
   "metadata": {},
   "source": [
    "Now you can reference wall in other cells."
   ]
  },
  {
   "cell_type": "code",
   "execution_count": null,
   "metadata": {
    "dotnet_interactive": {
     "language": "csharp"
    },
    "polyglot_notebook": {
     "kernelName": "csharp"
    }
   },
   "outputs": [],
   "source": [
    "#!revit24\n",
    "display(wall.Name);\n",
    "\n",
    "Level level = doc.GetElement(wall.LevelId) as Level;\n",
    "\n",
    "display(level.Name);"
   ]
  },
  {
   "cell_type": "markdown",
   "metadata": {},
   "source": [
    "## Variable Sharing\n"
   ]
  },
  {
   "cell_type": "markdown",
   "metadata": {},
   "source": [
    "The .NET Interactive kernel enables you to write code in multiple languages within a single notebook. The revit kernel is a C#-kernel but is run on a different process than the composite kernel. This means that we cannot reference a variable from the revit kernel directly but we need to use *#!set* magic command to send the value from the revit kernel to a another kernel. If you try to share a Autodesk Element object it will try to convert it to json but it will probably fail. Some simple types such as XYZ are serializable.\n",
    "\n",
    "In the example below we extract the wall profile and draws it live in the notebook using Hypar IO.\n",
    "\n",
    "**Run the cell below and then pick a wall in Revit!**"
   ]
  },
  {
   "cell_type": "code",
   "execution_count": null,
   "metadata": {
    "dotnet_interactive": {
     "language": "csharp"
    },
    "polyglot_notebook": {
     "kernelName": "csharp"
    }
   },
   "outputs": [],
   "source": [
    "//Adapted from https://thebuildingcoder.typepad.com/blog/2015/01/getting-the-wall-elevation-profile.html\n",
    "// Credit to Jeremy Tammik\n",
    "#!revit24\n",
    "\n",
    "var uiDoc = uiapp.ActiveUIDocument;\n",
    "Selection selection = uiDoc.Selection;\n",
    "\n",
    "Reference picked = selection.PickObject(ObjectType.Element, \"Pick a wall\");\n",
    "\n",
    "var selWall = doc.GetElement(picked) as Wall;\n",
    "\n",
    "\n",
    "// Get the external wall face for the profile\n",
    "IList<Reference> sideFaces\n",
    "  = HostObjectUtils.GetSideFaces(selWall,\n",
    "    ShellLayerType.Exterior );\n",
    " \n",
    "Element e2 = doc.GetElement( sideFaces[0] );\n",
    "\n",
    "Face face = e2.GetGeometryObjectFromReference(\n",
    "  sideFaces[0] ) as Face;\n",
    "\n",
    "IList<CurveLoop> curveLoops\n",
    "  = face.GetEdgesAsCurveLoops();\n",
    "\n",
    "// ExporterIFCUtils class can also be used for \n",
    "// non-IFC purposes. The SortCurveLoops method \n",
    "// sorts curve loops (edge loops) so that the \n",
    "// outer loops come first.\n",
    "IList<IList<CurveLoop>> curveLoopLoop\n",
    "  = ExporterIFCUtils.SortCurveLoops(\n",
    "    curveLoops );\n",
    "\n",
    "List<List<Line>> wallLines = new List<List<Line>>();\n",
    "\n",
    "foreach(var list in curveLoopLoop){\n",
    "\n",
    "    foreach(var lines in list){\n",
    "          var subList = new List<Line>();\n",
    "          foreach(Curve curve in lines){\n",
    "            Line line = curve as Line;\n",
    "            if (line!=null){\n",
    "                subList.Add(line);\n",
    "            }\n",
    "          }\n",
    "          wallLines.Add(subList);\n",
    "    }\n",
    "\n",
    "}\n",
    "\n",
    "display(curveLoopLoop);\n",
    "wallLines"
   ]
  },
  {
   "cell_type": "markdown",
   "metadata": {},
   "source": [
    ".NET interactive will have some trouble serializing a Revit Curve to JSON but the XYZ is fine. Let's build a dto."
   ]
  },
  {
   "cell_type": "code",
   "execution_count": null,
   "metadata": {
    "dotnet_interactive": {
     "language": "csharp"
    },
    "polyglot_notebook": {
     "kernelName": "csharp"
    }
   },
   "outputs": [],
   "source": [
    "#!revit24\n",
    "var dto = wallLines.Where(l => l.Count > 0).Select(boundary => boundary.Select(ln => new { start = ln.Origin, end = ln.GetEndPoint(1)}).ToList());\n",
    "display(dto);\n",
    "dto"
   ]
  },
  {
   "cell_type": "markdown",
   "metadata": {},
   "source": [
    "Use the #!set magic command to share the dto with the C#-kernel."
   ]
  },
  {
   "cell_type": "code",
   "execution_count": null,
   "metadata": {
    "dotnet_interactive": {
     "language": "csharp"
    },
    "polyglot_notebook": {
     "kernelName": "csharp"
    }
   },
   "outputs": [],
   "source": [
    "#!set --value @revit24:dto --name wallLines\n"
   ]
  },
  {
   "cell_type": "markdown",
   "metadata": {},
   "source": [
    "Hypar Elements is a cross-platform library for creating building elements. It brings an interactive extension that enables us to show the geometry live in the notebook. "
   ]
  },
  {
   "cell_type": "code",
   "execution_count": null,
   "metadata": {
    "dotnet_interactive": {
     "language": "csharp"
    },
    "polyglot_notebook": {
     "kernelName": "csharp"
    }
   },
   "outputs": [],
   "source": [
    "#r \"nuget: Hypar.Elements, *-*\""
   ]
  },
  {
   "cell_type": "code",
   "execution_count": null,
   "metadata": {
    "dotnet_interactive": {
     "language": "csharp"
    },
    "polyglot_notebook": {
     "kernelName": "csharp"
    }
   },
   "outputs": [],
   "source": [
    "var polylines = new List<Polyline>();\n",
    "foreach (var boundary in wallLines.RootElement.EnumerateArray())\n",
    "{\n",
    "   \n",
    "   var points = new List<Vector3>();\n",
    "\n",
    "   foreach (var lineJson in boundary.EnumerateArray())\n",
    "   {\n",
    "   \n",
    "      var start = lineJson.GetProperty(\"start\");\n",
    "      var end = lineJson.GetProperty(\"end\");\n",
    "      \n",
    "\n",
    "      var a = new Vector3((double)start.GetProperty(\"X\").GetDouble(),start.GetProperty(\"Y\").GetDouble(),\n",
    "                           start.GetProperty(\"Z\").GetDouble());\n",
    "      var b = new Vector3((double)end.GetProperty(\"X\").GetDouble(),end.GetProperty(\"Y\").GetDouble(),end.GetProperty(\"Z\").GetDouble());\n",
    "      \n",
    "      points.Add(a);\n",
    "      points.Add(b);\n",
    "\n",
    "   }\n",
    "\n",
    "   Polyline polyline = new Polyline(points);\n",
    "   polylines.Add(polyline);\n",
    "}\n",
    "\n",
    "return polylines;\n"
   ]
  }
 ],
 "metadata": {
  "kernelspec": {
   "display_name": ".NET (C#)",
   "language": "C#",
   "name": ".net-csharp"
  },
  "language_info": {
   "name": "polyglot-notebook"
  },
  "polyglot_notebook": {
   "kernelInfo": {
    "defaultKernelName": "csharp",
    "items": [
     {
      "aliases": [],
      "name": "csharp"
     }
    ]
   }
  }
 },
 "nbformat": 4,
 "nbformat_minor": 2
}
