{
 "cells": [
  {
   "cell_type": "markdown",
   "metadata": {},
   "source": [
    "# Revit UI\n",
    "This notebook contains some snippets for interacting with the revit UI, for example picking elements."
   ]
  },
  {
   "cell_type": "code",
   "execution_count": 1,
   "metadata": {
    "dotnet_interactive": {
     "language": "csharp"
    },
    "polyglot_notebook": {
     "kernelName": "csharp"
    }
   },
   "outputs": [
    {
     "data": {
      "text/html": [
       "<div><div></div><div></div><div><strong>Installed Packages</strong><ul><li><span>RevitInteractive, 0.1.0</span></li></ul></div></div>"
      ]
     },
     "metadata": {},
     "output_type": "display_data"
    },
    {
     "data": {
      "text/plain": [
       "Loading extensions from `C:\\Users\\sejsau\\.nuget\\packages\\revitinteractive\\0.1.0\\interactive-extensions\\dotnet\\Jowsy.DotNet.Interactive.Extensions.dll`"
      ]
     },
     "metadata": {},
     "output_type": "display_data"
    },
    {
     "data": {
      "text/html": [
       "<details><summary>Revit C# Kernel Added.</summary></details>"
      ]
     },
     "metadata": {},
     "output_type": "display_data"
    }
   ],
   "source": [
    "#r \"nuget:RevitInteractive, 0.1.0\""
   ]
  },
  {
   "cell_type": "code",
   "execution_count": 2,
   "metadata": {
    "dotnet_interactive": {
     "language": "csharp"
    },
    "polyglot_notebook": {
     "kernelName": "csharp"
    }
   },
   "outputs": [
    {
     "data": {
      "text/plain": [
       "Kernel added: #!revit"
      ]
     },
     "metadata": {},
     "output_type": "display_data"
    }
   ],
   "source": [
    "#!connect revit --kernel-name revit --revit-version 2024"
   ]
  },
  {
   "cell_type": "markdown",
   "metadata": {},
   "source": [
    "## Prompt pick an object and return element info\n",
    "\n",
    "This code prompts the user to pick an object. From the reference, an element is retrieved and displayed. If the user presses 'Esc' or cancels the pick operation a message is displayed."
   ]
  },
  {
   "cell_type": "code",
   "execution_count": null,
   "metadata": {
    "dotnet_interactive": {
     "language": "csharp"
    },
    "polyglot_notebook": {
     "kernelName": "csharp"
    }
   },
   "outputs": [],
   "source": [
    "#!revit\n",
    "// Prompt the user to pick an object\n",
    "Reference pickedObj = uidoc.Selection.PickObject(ObjectType.Element, \"Please select an element\");\n",
    "\n",
    "try{\n",
    "if (pickedObj != null)\n",
    "{\n",
    "    // Retrieve the element from its reference\n",
    "    Element elem = doc.GetElement(pickedObj);\n",
    "    \n",
    "    // Do something with the element, such as displaying its information\n",
    "    display(elem);\n",
    "}\n",
    "}\n",
    "catch (Autodesk.Revit.Exceptions.OperationCanceledException)\n",
    "{\n",
    "    \n",
    "    display(\"Pick Element operation was canceled.\");\n",
    "}\n",
    "catch (Exception ex)\n",
    "{\n",
    "    display(\"An error occurred:\" + ex.Message);\n",
    "}"
   ]
  },
  {
   "cell_type": "markdown",
   "metadata": {},
   "source": [
    "## Prompt pick an element and display parameters"
   ]
  },
  {
   "cell_type": "code",
   "execution_count": 11,
   "metadata": {
    "dotnet_interactive": {
     "language": "csharp"
    },
    "polyglot_notebook": {
     "kernelName": "csharp"
    }
   },
   "outputs": [
    {
     "data": {
      "text/html": [
       "<table><thead><tr><th><i>index</i></th><th>value</th></tr></thead><tbody><tr><td>0</td><td><details class=\"dni-treeview\"><summary><span class=\"dni-code-hint\"><code>{ Name = Structural, IsShared = False, Parameter = Autodesk.Revit.DB.Parameter }</code></span></summary><div><table><thead><tr></tr></thead><tbody><tr><td>Name</td><td><div class=\"dni-plaintext\"><pre>Structural</pre></div></td></tr><tr><td>IsShared</td><td><div class=\"dni-plaintext\"><pre>False</pre></div></td></tr><tr><td>Parameter</td><td><details class=\"dni-treeview\"><summary><span class=\"dni-code-hint\"><code>Autodesk.Revit.DB.Parameter</code></span></summary><div><table><thead><tr></tr></thead><tbody><tr><td>Id</td><td>-1001596</td></tr><tr><td>GUID</td><td>Autodesk.Revit.Exceptions.InvalidOperationException: Parameter is not a shared parameter.\r\n",
       "   at Autodesk.Revit.DB.Parameter.get_GUID()\r\n",
       "   at lambda_method(Closure , Parameter )\r\n",
       "   at Microsoft.DotNet.Interactive.Formatting.MemberAccessor`1.GetValueOrException(T instance)</td></tr><tr><td>IsShared</td><td>False</td></tr><tr><td>Element</td><td>Autodesk.Revit.DB.Wall</td></tr><tr><td>HasValue</td><td>True</td></tr><tr><td>UserModifiable</td><td>False</td></tr><tr><td>IsReadOnly</td><td>False</td></tr><tr><td>StorageType</td><td>Integer</td></tr><tr><td>Definition</td><td>Autodesk.Revit.DB.InternalDefinition</td></tr></tbody></table></div></details></td></tr></tbody></table></div></details></td></tr><tr><td>1</td><td><details class=\"dni-treeview\"><summary><span class=\"dni-code-hint\"><code>{ Name = Structural Usage, IsShared = False, Parameter = Autodesk.Revit.DB.Parameter }</code></span></summary><div><table><thead><tr></tr></thead><tbody><tr><td>Name</td><td><div class=\"dni-plaintext\"><pre>Structural Usage</pre></div></td></tr><tr><td>IsShared</td><td><div class=\"dni-plaintext\"><pre>False</pre></div></td></tr><tr><td>Parameter</td><td><details class=\"dni-treeview\"><summary><span class=\"dni-code-hint\"><code>Autodesk.Revit.DB.Parameter</code></span></summary><div><table><thead><tr></tr></thead><tbody><tr><td>Id</td><td>-1001119</td></tr><tr><td>GUID</td><td>Autodesk.Revit.Exceptions.InvalidOperationException: Parameter is not a shared parameter.\r\n",
       "   at Autodesk.Revit.DB.Parameter.get_GUID()\r\n",
       "   at lambda_method(Closure , Parameter )\r\n",
       "   at Microsoft.DotNet.Interactive.Formatting.MemberAccessor`1.GetValueOrException(T instance)</td></tr><tr><td>IsShared</td><td>False</td></tr><tr><td>Element</td><td>Autodesk.Revit.DB.Wall</td></tr><tr><td>HasValue</td><td>True</td></tr><tr><td>UserModifiable</td><td>False</td></tr><tr><td>IsReadOnly</td><td>False</td></tr><tr><td>StorageType</td><td>Integer</td></tr><tr><td>Definition</td><td>Autodesk.Revit.DB.InternalDefinition</td></tr></tbody></table></div></details></td></tr></tbody></table></div></details></td></tr><tr><td>2</td><td><details class=\"dni-treeview\"><summary><span class=\"dni-code-hint\"><code>{ Name = Location Line, IsShared = False, Parameter = Autodesk.Revit.DB.Parameter }</code></span></summary><div><table><thead><tr></tr></thead><tbody><tr><td>Name</td><td><div class=\"dni-plaintext\"><pre>Location Line</pre></div></td></tr><tr><td>IsShared</td><td><div class=\"dni-plaintext\"><pre>False</pre></div></td></tr><tr><td>Parameter</td><td><details class=\"dni-treeview\"><summary><span class=\"dni-code-hint\"><code>Autodesk.Revit.DB.Parameter</code></span></summary><div><table><thead><tr></tr></thead><tbody><tr><td>Id</td><td>-1001122</td></tr><tr><td>GUID</td><td>Autodesk.Revit.Exceptions.InvalidOperationException: Parameter is not a shared parameter.\r\n",
       "   at Autodesk.Revit.DB.Parameter.get_GUID()\r\n",
       "   at lambda_method(Closure , Parameter )\r\n",
       "   at Microsoft.DotNet.Interactive.Formatting.MemberAccessor`1.GetValueOrException(T instance)</td></tr><tr><td>IsShared</td><td>False</td></tr><tr><td>Element</td><td>Autodesk.Revit.DB.Wall</td></tr><tr><td>HasValue</td><td>True</td></tr><tr><td>UserModifiable</td><td>False</td></tr><tr><td>IsReadOnly</td><td>False</td></tr><tr><td>StorageType</td><td>Integer</td></tr><tr><td>Definition</td><td>Autodesk.Revit.DB.InternalDefinition</td></tr></tbody></table></div></details></td></tr></tbody></table></div></details></td></tr><tr><td>3</td><td><details class=\"dni-treeview\"><summary><span class=\"dni-code-hint\"><code>{ Name = Base Constraint, IsShared = False, Parameter = Autodesk.Revit.DB.Parameter }</code></span></summary><div><table><thead><tr></tr></thead><tbody><tr><td>Name</td><td><div class=\"dni-plaintext\"><pre>Base Constraint</pre></div></td></tr><tr><td>IsShared</td><td><div class=\"dni-plaintext\"><pre>False</pre></div></td></tr><tr><td>Parameter</td><td><details class=\"dni-treeview\"><summary><span class=\"dni-code-hint\"><code>Autodesk.Revit.DB.Parameter</code></span></summary><div><table><thead><tr></tr></thead><tbody><tr><td>Id</td><td>-1001107</td></tr><tr><td>GUID</td><td>Autodesk.Revit.Exceptions.InvalidOperationException: Parameter is not a shared parameter.\r\n",
       "   at Autodesk.Revit.DB.Parameter.get_GUID()\r\n",
       "   at lambda_method(Closure , Parameter )\r\n",
       "   at Microsoft.DotNet.Interactive.Formatting.MemberAccessor`1.GetValueOrException(T instance)</td></tr><tr><td>IsShared</td><td>False</td></tr><tr><td>Element</td><td>Autodesk.Revit.DB.Wall</td></tr><tr><td>HasValue</td><td>True</td></tr><tr><td>UserModifiable</td><td>False</td></tr><tr><td>IsReadOnly</td><td>False</td></tr><tr><td>StorageType</td><td>ElementId</td></tr><tr><td>Definition</td><td>Autodesk.Revit.DB.InternalDefinition</td></tr></tbody></table></div></details></td></tr></tbody></table></div></details></td></tr><tr><td>4</td><td><details class=\"dni-treeview\"><summary><span class=\"dni-code-hint\"><code>{ Name = Image, IsShared = False, Parameter = Autodesk.Revit.DB.Parameter }</code></span></summary><div><table><thead><tr></tr></thead><tbody><tr><td>Name</td><td><div class=\"dni-plaintext\"><pre>Image</pre></div></td></tr><tr><td>IsShared</td><td><div class=\"dni-plaintext\"><pre>False</pre></div></td></tr><tr><td>Parameter</td><td><details class=\"dni-treeview\"><summary><span class=\"dni-code-hint\"><code>Autodesk.Revit.DB.Parameter</code></span></summary><div><table><thead><tr></tr></thead><tbody><tr><td>Id</td><td>-1152385</td></tr><tr><td>GUID</td><td>Autodesk.Revit.Exceptions.InvalidOperationException: Parameter is not a shared parameter.\r\n",
       "   at Autodesk.Revit.DB.Parameter.get_GUID()\r\n",
       "   at lambda_method(Closure , Parameter )\r\n",
       "   at Microsoft.DotNet.Interactive.Formatting.MemberAccessor`1.GetValueOrException(T instance)</td></tr><tr><td>IsShared</td><td>False</td></tr><tr><td>Element</td><td>Autodesk.Revit.DB.Wall</td></tr><tr><td>HasValue</td><td>False</td></tr><tr><td>UserModifiable</td><td>False</td></tr><tr><td>IsReadOnly</td><td>False</td></tr><tr><td>StorageType</td><td>ElementId</td></tr><tr><td>Definition</td><td>Autodesk.Revit.DB.InternalDefinition</td></tr></tbody></table></div></details></td></tr></tbody></table></div></details></td></tr><tr><td>5</td><td><details class=\"dni-treeview\"><summary><span class=\"dni-code-hint\"><code>{ Name = Export to IFC, IsShared = False, Parameter = Autodesk.Revit.DB.Parameter }</code></span></summary><div><table><thead><tr></tr></thead><tbody><tr><td>Name</td><td><div class=\"dni-plaintext\"><pre>Export to IFC</pre></div></td></tr><tr><td>IsShared</td><td><div class=\"dni-plaintext\"><pre>False</pre></div></td></tr><tr><td>Parameter</td><td><details class=\"dni-treeview\"><summary><span class=\"dni-code-hint\"><code>Autodesk.Revit.DB.Parameter</code></span></summary><div><table><thead><tr></tr></thead><tbody><tr><td>Id</td><td>-1019012</td></tr><tr><td>GUID</td><td>Autodesk.Revit.Exceptions.InvalidOperationException: Parameter is not a shared parameter.\r\n",
       "   at Autodesk.Revit.DB.Parameter.get_GUID()\r\n",
       "   at lambda_method(Closure , Parameter )\r\n",
       "   at Microsoft.DotNet.Interactive.Formatting.MemberAccessor`1.GetValueOrException(T instance)</td></tr><tr><td>IsShared</td><td>False</td></tr><tr><td>Element</td><td>Autodesk.Revit.DB.Wall</td></tr><tr><td>HasValue</td><td>True</td></tr><tr><td>UserModifiable</td><td>False</td></tr><tr><td>IsReadOnly</td><td>False</td></tr><tr><td>StorageType</td><td>Integer</td></tr><tr><td>Definition</td><td>Autodesk.Revit.DB.InternalDefinition</td></tr></tbody></table></div></details></td></tr></tbody></table></div></details></td></tr><tr><td>6</td><td><details class=\"dni-treeview\"><summary><span class=\"dni-code-hint\"><code>{ Name = Export to IFC As, IsShared = False, Parameter = Autodesk.Revit.DB.Parameter }</code></span></summary><div><table><thead><tr></tr></thead><tbody><tr><td>Name</td><td><div class=\"dni-plaintext\"><pre>Export to IFC As</pre></div></td></tr><tr><td>IsShared</td><td><div class=\"dni-plaintext\"><pre>False</pre></div></td></tr><tr><td>Parameter</td><td><details class=\"dni-treeview\"><summary><span class=\"dni-code-hint\"><code>Autodesk.Revit.DB.Parameter</code></span></summary><div><table><thead><tr></tr></thead><tbody><tr><td>Id</td><td>-1019014</td></tr><tr><td>GUID</td><td>Autodesk.Revit.Exceptions.InvalidOperationException: Parameter is not a shared parameter.\r\n",
       "   at Autodesk.Revit.DB.Parameter.get_GUID()\r\n",
       "   at lambda_method(Closure , Parameter )\r\n",
       "   at Microsoft.DotNet.Interactive.Formatting.MemberAccessor`1.GetValueOrException(T instance)</td></tr><tr><td>IsShared</td><td>False</td></tr><tr><td>Element</td><td>Autodesk.Revit.DB.Wall</td></tr><tr><td>HasValue</td><td>False</td></tr><tr><td>UserModifiable</td><td>False</td></tr><tr><td>IsReadOnly</td><td>False</td></tr><tr><td>StorageType</td><td>String</td></tr><tr><td>Definition</td><td>Autodesk.Revit.DB.InternalDefinition</td></tr></tbody></table></div></details></td></tr></tbody></table></div></details></td></tr><tr><td>7</td><td><details class=\"dni-treeview\"><summary><span class=\"dni-code-hint\"><code>{ Name = IFC Predefined Type, IsShared = False, Parameter = Autodesk.Revit.DB.Parameter }</code></span></summary><div><table><thead><tr></tr></thead><tbody><tr><td>Name</td><td><div class=\"dni-plaintext\"><pre>IFC Predefined Type</pre></div></td></tr><tr><td>IsShared</td><td><div class=\"dni-plaintext\"><pre>False</pre></div></td></tr><tr><td>Parameter</td><td><details class=\"dni-treeview\"><summary><span class=\"dni-code-hint\"><code>Autodesk.Revit.DB.Parameter</code></span></summary><div><table><thead><tr></tr></thead><tbody><tr><td>Id</td><td>-1019016</td></tr><tr><td>GUID</td><td>Autodesk.Revit.Exceptions.InvalidOperationException: Parameter is not a shared parameter.\r\n",
       "   at Autodesk.Revit.DB.Parameter.get_GUID()\r\n",
       "   at lambda_method(Closure , Parameter )\r\n",
       "   at Microsoft.DotNet.Interactive.Formatting.MemberAccessor`1.GetValueOrException(T instance)</td></tr><tr><td>IsShared</td><td>False</td></tr><tr><td>Element</td><td>Autodesk.Revit.DB.Wall</td></tr><tr><td>HasValue</td><td>False</td></tr><tr><td>UserModifiable</td><td>False</td></tr><tr><td>IsReadOnly</td><td>False</td></tr><tr><td>StorageType</td><td>String</td></tr><tr><td>Definition</td><td>Autodesk.Revit.DB.InternalDefinition</td></tr></tbody></table></div></details></td></tr></tbody></table></div></details></td></tr><tr><td>8</td><td><details class=\"dni-treeview\"><summary><span class=\"dni-code-hint\"><code>{ Name = IfcGUID, IsShared = False, Parameter = Autodesk.Revit.DB.Parameter }</code></span></summary><div><table><thead><tr></tr></thead><tbody><tr><td>Name</td><td><div class=\"dni-plaintext\"><pre>IfcGUID</pre></div></td></tr><tr><td>IsShared</td><td><div class=\"dni-plaintext\"><pre>False</pre></div></td></tr><tr><td>Parameter</td><td><details class=\"dni-treeview\"><summary><span class=\"dni-code-hint\"><code>Autodesk.Revit.DB.Parameter</code></span></summary><div><table><thead><tr></tr></thead><tbody><tr><td>Id</td><td>-1019000</td></tr><tr><td>GUID</td><td>Autodesk.Revit.Exceptions.InvalidOperationException: Parameter is not a shared parameter.\r\n",
       "   at Autodesk.Revit.DB.Parameter.get_GUID()\r\n",
       "   at lambda_method(Closure , Parameter )\r\n",
       "   at Microsoft.DotNet.Interactive.Formatting.MemberAccessor`1.GetValueOrException(T instance)</td></tr><tr><td>IsShared</td><td>False</td></tr><tr><td>Element</td><td>Autodesk.Revit.DB.Wall</td></tr><tr><td>HasValue</td><td>True</td></tr><tr><td>UserModifiable</td><td>False</td></tr><tr><td>IsReadOnly</td><td>False</td></tr><tr><td>StorageType</td><td>String</td></tr><tr><td>Definition</td><td>Autodesk.Revit.DB.InternalDefinition</td></tr></tbody></table></div></details></td></tr></tbody></table></div></details></td></tr><tr><td>9</td><td><details class=\"dni-treeview\"><summary><span class=\"dni-code-hint\"><code>{ Name = Comments, IsShared = False, Parameter = Autodesk.Revit.DB.Parameter }</code></span></summary><div><table><thead><tr></tr></thead><tbody><tr><td>Name</td><td><div class=\"dni-plaintext\"><pre>Comments</pre></div></td></tr><tr><td>IsShared</td><td><div class=\"dni-plaintext\"><pre>False</pre></div></td></tr><tr><td>Parameter</td><td><details class=\"dni-treeview\"><summary><span class=\"dni-code-hint\"><code>Autodesk.Revit.DB.Parameter</code></span></summary><div><table><thead><tr></tr></thead><tbody><tr><td>Id</td><td>-1010106</td></tr><tr><td>GUID</td><td>Autodesk.Revit.Exceptions.InvalidOperationException: Parameter is not a shared parameter.\r\n",
       "   at Autodesk.Revit.DB.Parameter.get_GUID()\r\n",
       "   at lambda_method(Closure , Parameter )\r\n",
       "   at Microsoft.DotNet.Interactive.Formatting.MemberAccessor`1.GetValueOrException(T instance)</td></tr><tr><td>IsShared</td><td>False</td></tr><tr><td>Element</td><td>Autodesk.Revit.DB.Wall</td></tr><tr><td>HasValue</td><td>False</td></tr><tr><td>UserModifiable</td><td>False</td></tr><tr><td>IsReadOnly</td><td>False</td></tr><tr><td>StorageType</td><td>String</td></tr><tr><td>Definition</td><td>Autodesk.Revit.DB.InternalDefinition</td></tr></tbody></table></div></details></td></tr></tbody></table></div></details></td></tr><tr><td>10</td><td><details class=\"dni-treeview\"><summary><span class=\"dni-code-hint\"><code>{ Name = Mark, IsShared = False, Parameter = Autodesk.Revit.DB.Parameter }</code></span></summary><div><table><thead><tr></tr></thead><tbody><tr><td>Name</td><td><div class=\"dni-plaintext\"><pre>Mark</pre></div></td></tr><tr><td>IsShared</td><td><div class=\"dni-plaintext\"><pre>False</pre></div></td></tr><tr><td>Parameter</td><td><details class=\"dni-treeview\"><summary><span class=\"dni-code-hint\"><code>Autodesk.Revit.DB.Parameter</code></span></summary><div><table><thead><tr></tr></thead><tbody><tr><td>Id</td><td>-1001203</td></tr><tr><td>GUID</td><td>Autodesk.Revit.Exceptions.InvalidOperationException: Parameter is not a shared parameter.\r\n",
       "   at Autodesk.Revit.DB.Parameter.get_GUID()\r\n",
       "   at lambda_method(Closure , Parameter )\r\n",
       "   at Microsoft.DotNet.Interactive.Formatting.MemberAccessor`1.GetValueOrException(T instance)</td></tr><tr><td>IsShared</td><td>False</td></tr><tr><td>Element</td><td>Autodesk.Revit.DB.Wall</td></tr><tr><td>HasValue</td><td>False</td></tr><tr><td>UserModifiable</td><td>False</td></tr><tr><td>IsReadOnly</td><td>False</td></tr><tr><td>StorageType</td><td>String</td></tr><tr><td>Definition</td><td>Autodesk.Revit.DB.InternalDefinition</td></tr></tbody></table></div></details></td></tr></tbody></table></div></details></td></tr><tr><td>11</td><td><details class=\"dni-treeview\"><summary><span class=\"dni-code-hint\"><code>{ Name = Phase Created, IsShared = False, Parameter = Autodesk.Revit.DB.Parameter }</code></span></summary><div><table><thead><tr></tr></thead><tbody><tr><td>Name</td><td><div class=\"dni-plaintext\"><pre>Phase Created</pre></div></td></tr><tr><td>IsShared</td><td><div class=\"dni-plaintext\"><pre>False</pre></div></td></tr><tr><td>Parameter</td><td><details class=\"dni-treeview\"><summary><span class=\"dni-code-hint\"><code>Autodesk.Revit.DB.Parameter</code></span></summary><div><table><thead><tr></tr></thead><tbody><tr><td>Id</td><td>-1012100</td></tr><tr><td>GUID</td><td>Autodesk.Revit.Exceptions.InvalidOperationException: Parameter is not a shared parameter.\r\n",
       "   at Autodesk.Revit.DB.Parameter.get_GUID()\r\n",
       "   at lambda_method(Closure , Parameter )\r\n",
       "   at Microsoft.DotNet.Interactive.Formatting.MemberAccessor`1.GetValueOrException(T instance)</td></tr><tr><td>IsShared</td><td>False</td></tr><tr><td>Element</td><td>Autodesk.Revit.DB.Wall</td></tr><tr><td>HasValue</td><td>True</td></tr><tr><td>UserModifiable</td><td>False</td></tr><tr><td>IsReadOnly</td><td>False</td></tr><tr><td>StorageType</td><td>ElementId</td></tr><tr><td>Definition</td><td>Autodesk.Revit.DB.InternalDefinition</td></tr></tbody></table></div></details></td></tr></tbody></table></div></details></td></tr><tr><td>12</td><td><details class=\"dni-treeview\"><summary><span class=\"dni-code-hint\"><code>{ Name = Phase Demolished, IsShared = False, Parameter = Autodesk.Revit.DB.Parameter }</code></span></summary><div><table><thead><tr></tr></thead><tbody><tr><td>Name</td><td><div class=\"dni-plaintext\"><pre>Phase Demolished</pre></div></td></tr><tr><td>IsShared</td><td><div class=\"dni-plaintext\"><pre>False</pre></div></td></tr><tr><td>Parameter</td><td><details class=\"dni-treeview\"><summary><span class=\"dni-code-hint\"><code>Autodesk.Revit.DB.Parameter</code></span></summary><div><table><thead><tr></tr></thead><tbody><tr><td>Id</td><td>-1012101</td></tr><tr><td>GUID</td><td>Autodesk.Revit.Exceptions.InvalidOperationException: Parameter is not a shared parameter.\r\n",
       "   at Autodesk.Revit.DB.Parameter.get_GUID()\r\n",
       "   at lambda_method(Closure , Parameter )\r\n",
       "   at Microsoft.DotNet.Interactive.Formatting.MemberAccessor`1.GetValueOrException(T instance)</td></tr><tr><td>IsShared</td><td>False</td></tr><tr><td>Element</td><td>Autodesk.Revit.DB.Wall</td></tr><tr><td>HasValue</td><td>True</td></tr><tr><td>UserModifiable</td><td>False</td></tr><tr><td>IsReadOnly</td><td>False</td></tr><tr><td>StorageType</td><td>ElementId</td></tr><tr><td>Definition</td><td>Autodesk.Revit.DB.InternalDefinition</td></tr></tbody></table></div></details></td></tr></tbody></table></div></details></td></tr><tr><td>13</td><td><details class=\"dni-treeview\"><summary><span class=\"dni-code-hint\"><code>{ Name = Has Association, IsShared = False, Parameter = Autodesk.Revit.DB.Parameter }</code></span></summary><div><table><thead><tr></tr></thead><tbody><tr><td>Name</td><td><div class=\"dni-plaintext\"><pre>Has Association</pre></div></td></tr><tr><td>IsShared</td><td><div class=\"dni-plaintext\"><pre>False</pre></div></td></tr><tr><td>Parameter</td><td><details class=\"dni-treeview\"><summary><span class=\"dni-code-hint\"><code>Autodesk.Revit.DB.Parameter</code></span></summary><div><table><thead><tr></tr></thead><tbody><tr><td>Id</td><td>-1013449</td></tr><tr><td>GUID</td><td>Autodesk.Revit.Exceptions.InvalidOperationException: Parameter is not a shared parameter.\r\n",
       "   at Autodesk.Revit.DB.Parameter.get_GUID()\r\n",
       "   at lambda_method(Closure , Parameter )\r\n",
       "   at Microsoft.DotNet.Interactive.Formatting.MemberAccessor`1.GetValueOrException(T instance)</td></tr><tr><td>IsShared</td><td>False</td></tr><tr><td>Element</td><td>Autodesk.Revit.DB.Wall</td></tr><tr><td>HasValue</td><td>True</td></tr><tr><td>UserModifiable</td><td>True</td></tr><tr><td>IsReadOnly</td><td>True</td></tr><tr><td>StorageType</td><td>Integer</td></tr><tr><td>Definition</td><td>Autodesk.Revit.DB.InternalDefinition</td></tr></tbody></table></div></details></td></tr></tbody></table></div></details></td></tr><tr><td>14</td><td><details class=\"dni-treeview\"><summary><span class=\"dni-code-hint\"><code>{ Name = Rebar Cover - Exterior Face, IsShared = False, Parameter = Autodesk.Revit.DB.Parameter }</code></span></summary><div><table><thead><tr></tr></thead><tbody><tr><td>Name</td><td><div class=\"dni-plaintext\"><pre>Rebar Cover - Exterior Face</pre></div></td></tr><tr><td>IsShared</td><td><div class=\"dni-plaintext\"><pre>False</pre></div></td></tr><tr><td>Parameter</td><td><details class=\"dni-treeview\"><summary><span class=\"dni-code-hint\"><code>Autodesk.Revit.DB.Parameter</code></span></summary><div><table><thead><tr></tr></thead><tbody><tr><td>Id</td><td>-1013435</td></tr><tr><td>GUID</td><td>Autodesk.Revit.Exceptions.InvalidOperationException: Parameter is not a shared parameter.\r\n",
       "   at Autodesk.Revit.DB.Parameter.get_GUID()\r\n",
       "   at lambda_method(Closure , Parameter )\r\n",
       "   at Microsoft.DotNet.Interactive.Formatting.MemberAccessor`1.GetValueOrException(T instance)</td></tr><tr><td>IsShared</td><td>False</td></tr><tr><td>Element</td><td>Autodesk.Revit.DB.Wall</td></tr><tr><td>HasValue</td><td>True</td></tr><tr><td>UserModifiable</td><td>False</td></tr><tr><td>IsReadOnly</td><td>False</td></tr><tr><td>StorageType</td><td>ElementId</td></tr><tr><td>Definition</td><td>Autodesk.Revit.DB.InternalDefinition</td></tr></tbody></table></div></details></td></tr></tbody></table></div></details></td></tr><tr><td>15</td><td><details class=\"dni-treeview\"><summary><span class=\"dni-code-hint\"><code>{ Name = Rebar Cover - Interior Face, IsShared = False, Parameter = Autodesk.Revit.DB.Parameter }</code></span></summary><div><table><thead><tr></tr></thead><tbody><tr><td>Name</td><td><div class=\"dni-plaintext\"><pre>Rebar Cover - Interior Face</pre></div></td></tr><tr><td>IsShared</td><td><div class=\"dni-plaintext\"><pre>False</pre></div></td></tr><tr><td>Parameter</td><td><details class=\"dni-treeview\"><summary><span class=\"dni-code-hint\"><code>Autodesk.Revit.DB.Parameter</code></span></summary><div><table><thead><tr></tr></thead><tbody><tr><td>Id</td><td>-1013436</td></tr><tr><td>GUID</td><td>Autodesk.Revit.Exceptions.InvalidOperationException: Parameter is not a shared parameter.\r\n",
       "   at Autodesk.Revit.DB.Parameter.get_GUID()\r\n",
       "   at lambda_method(Closure , Parameter )\r\n",
       "   at Microsoft.DotNet.Interactive.Formatting.MemberAccessor`1.GetValueOrException(T instance)</td></tr><tr><td>IsShared</td><td>False</td></tr><tr><td>Element</td><td>Autodesk.Revit.DB.Wall</td></tr><tr><td>HasValue</td><td>True</td></tr><tr><td>UserModifiable</td><td>False</td></tr><tr><td>IsReadOnly</td><td>False</td></tr><tr><td>StorageType</td><td>ElementId</td></tr><tr><td>Definition</td><td>Autodesk.Revit.DB.InternalDefinition</td></tr></tbody></table></div></details></td></tr></tbody></table></div></details></td></tr><tr><td>16</td><td><details class=\"dni-treeview\"><summary><span class=\"dni-code-hint\"><code>{ Name = Rebar Cover - Other Faces, IsShared = False, Parameter = Autodesk.Revit.DB.Parameter }</code></span></summary><div><table><thead><tr></tr></thead><tbody><tr><td>Name</td><td><div class=\"dni-plaintext\"><pre>Rebar Cover - Other Faces</pre></div></td></tr><tr><td>IsShared</td><td><div class=\"dni-plaintext\"><pre>False</pre></div></td></tr><tr><td>Parameter</td><td><details class=\"dni-treeview\"><summary><span class=\"dni-code-hint\"><code>Autodesk.Revit.DB.Parameter</code></span></summary><div><table><thead><tr></tr></thead><tbody><tr><td>Id</td><td>-1013437</td></tr><tr><td>GUID</td><td>Autodesk.Revit.Exceptions.InvalidOperationException: Parameter is not a shared parameter.\r\n",
       "   at Autodesk.Revit.DB.Parameter.get_GUID()\r\n",
       "   at lambda_method(Closure , Parameter )\r\n",
       "   at Microsoft.DotNet.Interactive.Formatting.MemberAccessor`1.GetValueOrException(T instance)</td></tr><tr><td>IsShared</td><td>False</td></tr><tr><td>Element</td><td>Autodesk.Revit.DB.Wall</td></tr><tr><td>HasValue</td><td>True</td></tr><tr><td>UserModifiable</td><td>False</td></tr><tr><td>IsReadOnly</td><td>False</td></tr><tr><td>StorageType</td><td>ElementId</td></tr><tr><td>Definition</td><td>Autodesk.Revit.DB.InternalDefinition</td></tr></tbody></table></div></details></td></tr></tbody></table></div></details></td></tr><tr><td>17</td><td><details class=\"dni-treeview\"><summary><span class=\"dni-code-hint\"><code>{ Name = Base Offset, IsShared = False, Parameter = Autodesk.Revit.DB.Parameter }</code></span></summary><div><table><thead><tr></tr></thead><tbody><tr><td>Name</td><td><div class=\"dni-plaintext\"><pre>Base Offset</pre></div></td></tr><tr><td>IsShared</td><td><div class=\"dni-plaintext\"><pre>False</pre></div></td></tr><tr><td>Parameter</td><td><details class=\"dni-treeview\"><summary><span class=\"dni-code-hint\"><code>Autodesk.Revit.DB.Parameter</code></span></summary><div><table><thead><tr></tr></thead><tbody><tr><td>Id</td><td>-1001108</td></tr><tr><td>GUID</td><td>Autodesk.Revit.Exceptions.InvalidOperationException: Parameter is not a shared parameter.\r\n",
       "   at Autodesk.Revit.DB.Parameter.get_GUID()\r\n",
       "   at lambda_method(Closure , Parameter )\r\n",
       "   at Microsoft.DotNet.Interactive.Formatting.MemberAccessor`1.GetValueOrException(T instance)</td></tr><tr><td>IsShared</td><td>False</td></tr><tr><td>Element</td><td>Autodesk.Revit.DB.Wall</td></tr><tr><td>HasValue</td><td>True</td></tr><tr><td>UserModifiable</td><td>False</td></tr><tr><td>IsReadOnly</td><td>False</td></tr><tr><td>StorageType</td><td>Double</td></tr><tr><td>Definition</td><td>Autodesk.Revit.DB.InternalDefinition</td></tr></tbody></table></div></details></td></tr></tbody></table></div></details></td></tr><tr><td>18</td><td><details class=\"dni-treeview\"><summary><span class=\"dni-code-hint\"><code>{ Name = Base is Attached, IsShared = False, Parameter = Autodesk.Revit.DB.Parameter }</code></span></summary><div><table><thead><tr></tr></thead><tbody><tr><td>Name</td><td><div class=\"dni-plaintext\"><pre>Base is Attached</pre></div></td></tr><tr><td>IsShared</td><td><div class=\"dni-plaintext\"><pre>False</pre></div></td></tr><tr><td>Parameter</td><td><details class=\"dni-treeview\"><summary><span class=\"dni-code-hint\"><code>Autodesk.Revit.DB.Parameter</code></span></summary><div><table><thead><tr></tr></thead><tbody><tr><td>Id</td><td>-1001118</td></tr><tr><td>GUID</td><td>Autodesk.Revit.Exceptions.InvalidOperationException: Parameter is not a shared parameter.\r\n",
       "   at Autodesk.Revit.DB.Parameter.get_GUID()\r\n",
       "   at lambda_method(Closure , Parameter )\r\n",
       "   at Microsoft.DotNet.Interactive.Formatting.MemberAccessor`1.GetValueOrException(T instance)</td></tr><tr><td>IsShared</td><td>False</td></tr><tr><td>Element</td><td>Autodesk.Revit.DB.Wall</td></tr><tr><td>HasValue</td><td>True</td></tr><tr><td>UserModifiable</td><td>True</td></tr><tr><td>IsReadOnly</td><td>True</td></tr><tr><td>StorageType</td><td>Integer</td></tr><tr><td>Definition</td><td>Autodesk.Revit.DB.InternalDefinition</td></tr></tbody></table></div></details></td></tr></tbody></table></div></details></td></tr><tr><td>19</td><td><details class=\"dni-treeview\"><summary><span class=\"dni-code-hint\"><code>{ Name = Base Extension Distance, IsShared = False, Parameter = Autodesk.Revit.DB.Parameter }</code></span></summary><div><table><thead><tr></tr></thead><tbody><tr><td>Name</td><td><div class=\"dni-plaintext\"><pre>Base Extension Distance</pre></div></td></tr><tr><td>IsShared</td><td><div class=\"dni-plaintext\"><pre>False</pre></div></td></tr><tr><td>Parameter</td><td><details class=\"dni-treeview\"><summary><span class=\"dni-code-hint\"><code>Autodesk.Revit.DB.Parameter</code></span></summary><div><table><thead><tr></tr></thead><tbody><tr><td>Id</td><td>-1012829</td></tr><tr><td>GUID</td><td>Autodesk.Revit.Exceptions.InvalidOperationException: Parameter is not a shared parameter.\r\n",
       "   at Autodesk.Revit.DB.Parameter.get_GUID()\r\n",
       "   at lambda_method(Closure , Parameter )\r\n",
       "   at Microsoft.DotNet.Interactive.Formatting.MemberAccessor`1.GetValueOrException(T instance)</td></tr><tr><td>IsShared</td><td>False</td></tr><tr><td>Element</td><td>Autodesk.Revit.DB.Wall</td></tr><tr><td>HasValue</td><td>True</td></tr><tr><td>UserModifiable</td><td>True</td></tr><tr><td>IsReadOnly</td><td>True</td></tr><tr><td>StorageType</td><td>Double</td></tr><tr><td>Definition</td><td>Autodesk.Revit.DB.InternalDefinition</td></tr></tbody></table></div></details></td></tr></tbody></table></div></details></td></tr><tr><td colspan=\"2\"><i>... (more)</i></td></tr></tbody></table><style>\r\n",
       ".dni-code-hint {\r\n",
       "    font-style: italic;\r\n",
       "    overflow: hidden;\r\n",
       "    white-space: nowrap;\r\n",
       "}\r\n",
       ".dni-treeview {\r\n",
       "    white-space: nowrap;\r\n",
       "}\r\n",
       ".dni-treeview td {\r\n",
       "    vertical-align: top;\r\n",
       "    text-align: start;\r\n",
       "}\r\n",
       "details.dni-treeview {\r\n",
       "    padding-left: 1em;\r\n",
       "}\r\n",
       "table td {\r\n",
       "    text-align: start;\r\n",
       "}\r\n",
       "table tr { \r\n",
       "    vertical-align: top; \r\n",
       "    margin: 0em 0px;\r\n",
       "}\r\n",
       "table tr td pre \r\n",
       "{ \r\n",
       "    vertical-align: top !important; \r\n",
       "    margin: 0em 0px !important;\r\n",
       "} \r\n",
       "table th {\r\n",
       "    text-align: start;\r\n",
       "}\r\n",
       "</style>"
      ]
     },
     "metadata": {},
     "output_type": "display_data"
    }
   ],
   "source": [
    "#!revit\n",
    "\n",
    "// Prompt the user to pick an object\n",
    "Reference pickedObj = uidoc.Selection.PickObject(ObjectType.Element, \"Please select an element\");\n",
    "\n",
    "try{\n",
    "if (pickedObj != null)\n",
    "{\n",
    "    // Retrieve the element from its reference\n",
    "    Element elem = doc.GetElement(pickedObj);\n",
    "    \n",
    "    // Do something with the element, such as displaying its information\n",
    "    display(elem.GetOrderedParameters().Select(p => new {\n",
    "        Name = p.Definition.Name,\n",
    "        IsShared = p.IsShared,\n",
    "        Parameter = p\n",
    "\n",
    "    }));\n",
    "}\n",
    "}\n",
    "catch (Autodesk.Revit.Exceptions.OperationCanceledException)\n",
    "{\n",
    "    \n",
    "    display(\"Pick Element operation was canceled.\");\n",
    "}\n",
    "catch (Exception ex)\n",
    "{\n",
    "    display(\"An error occurred:\" + ex.Message);\n",
    "}"
   ]
  },
  {
   "cell_type": "markdown",
   "metadata": {},
   "source": [
    "# Rotate 3D view"
   ]
  },
  {
   "cell_type": "code",
   "execution_count": null,
   "metadata": {
    "dotnet_interactive": {
     "language": "csharp"
    },
    "polyglot_notebook": {
     "kernelName": "csharp"
    }
   },
   "outputs": [],
   "source": [
    "#!revit\n",
    "\n",
    "// Check if the active view is a 3D view\n",
    "if (doc.ActiveView is View3D view3D)\n",
    "{\n",
    "    // Get the current ViewOrientation3D of the 3D view\n",
    "    ViewOrientation3D orientation = view3D.GetOrientation();\n",
    "\n",
    "    // Get the current right direction (cross product of up and forward vectors)\n",
    "    XYZ rightDirection = orientation.UpDirection.CrossProduct(orientation.ForwardDirection);\n",
    "    \n",
    "    // Define the rotation angle in degrees and convert it to radians\n",
    "    double angleDegrees = 25.0;\n",
    "    double angleRadians = angleDegrees * (Math.PI / 180.0);\n",
    "\n",
    "    // Create a rotation transformation about the Z-axis (right direction)\n",
    "    Transform rotation = Transform.CreateRotation(XYZ.BasisZ, angleRadians);\n",
    "    \n",
    "    // Apply the rotation to the forward and up direction\n",
    "    XYZ rotatedForward = rotation.OfVector(orientation.ForwardDirection);\n",
    "    XYZ rotatedUp = rotation.OfVector(orientation.UpDirection);\n",
    "    \n",
    "    // Create a new ViewOrientation3D with the rotated directions\n",
    "    ViewOrientation3D newOrientation = new ViewOrientation3D(orientation.EyePosition, rotatedUp,rotatedForward);\n",
    "    \n",
    "    // Start a transaction to modify the view\n",
    "    using (Transaction tx = new Transaction(doc, \"Rotate View\"))\n",
    "    {\n",
    "        tx.Start();\n",
    "        view3D.SetOrientation(newOrientation);\n",
    "        tx.Commit();\n",
    "    }\n",
    "    uidoc.RefreshActiveView();\n",
    "}\n",
    "else\n",
    "{\n",
    "    display(\"Active view is not a 3D view.\");\n",
    "}"
   ]
  }
 ],
 "metadata": {
  "kernelspec": {
   "display_name": ".NET (C#)",
   "language": "C#",
   "name": ".net-csharp"
  },
  "language_info": {
   "name": "polyglot-notebook"
  },
  "polyglot_notebook": {
   "kernelInfo": {
    "defaultKernelName": "csharp",
    "items": [
     {
      "aliases": [],
      "name": "csharp"
     }
    ]
   }
  }
 },
 "nbformat": 4,
 "nbformat_minor": 2
}
